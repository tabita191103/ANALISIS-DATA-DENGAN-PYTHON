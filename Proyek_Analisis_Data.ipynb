{
  "cells": [
    {
      "cell_type": "markdown",
      "metadata": {
        "id": "H9wADwK78DCz"
      },
      "source": [
        "# Proyek Analisis Data: Bike Sharing Dataset \n",
        "- **Nama:** Tabita Novi Sinaga\n",
        "- **Email:** novitabitasinaga@gmail.com\n",
        "- **ID Dicoding:** tabita-novi-sinaga"
      ]
    },
    {
      "cell_type": "markdown",
      "metadata": {
        "id": "eE0raob58DC0"
      },
      "source": [
        "## Menentukan Pertanyaan Bisnis"
      ]
    },
    {
      "cell_type": "markdown",
      "metadata": {
        "id": "GmQeQ5YF8DC0"
      },
      "source": [
        "- Pertanyaan 1: Pada hari apa dalam seminggu penyewaan sepeda paling banyak dan paling sedikit?\n",
        "- Pertanyaan 2: Bagaimana perbedaan jumlah penyewaan sepeda antara hari kerja dan hari libur?"
      ]
    },
    {
      "cell_type": "markdown",
      "metadata": {
        "id": "H-z4QGlO8DC1"
      },
      "source": [
        "## Import Semua Packages/Library yang Digunakan"
      ]
    },
    {
      "cell_type": "code",
      "execution_count": 1,
      "metadata": {
        "id": "FVYwaObI8DC1"
      },
      "outputs": [],
      "source": [
        "import matplotlib.pyplot as plt\n",
        "import seaborn as sns\n",
        "import numpy as np\n",
        "import pandas as pd"
      ]
    },
    {
      "cell_type": "markdown",
      "metadata": {
        "id": "h_Sh51Xy8DC1"
      },
      "source": [
        "## Data Wrangling"
      ]
    },
    {
      "cell_type": "markdown",
      "metadata": {
        "id": "sXU2GBYu8DC1"
      },
      "source": [
        "### Gathering Data"
      ]
    },
    {
      "cell_type": "code",
      "execution_count": null,
      "metadata": {
        "id": "zjCBk1BI8DC1"
      },
      "outputs": [
        {
          "name": "stdout",
          "output_type": "stream",
          "text": [
            "Datasets Loaded Successfully\n",
            "\n",
            "Preview of Daily Data:\n",
            "   instant      dteday  season  yr  mnth  holiday  weekday  workingday  \\\n",
            "0        1  2011-01-01       1   0     1        0        6           0   \n",
            "1        2  2011-01-02       1   0     1        0        0           0   \n",
            "2        3  2011-01-03       1   0     1        0        1           1   \n",
            "3        4  2011-01-04       1   0     1        0        2           1   \n",
            "4        5  2011-01-05       1   0     1        0        3           1   \n",
            "\n",
            "   weathersit      temp     atemp       hum  windspeed  casual  registered  \\\n",
            "0           2  0.344167  0.363625  0.805833   0.160446     331         654   \n",
            "1           2  0.363478  0.353739  0.696087   0.248539     131         670   \n",
            "2           1  0.196364  0.189405  0.437273   0.248309     120        1229   \n",
            "3           1  0.200000  0.212122  0.590435   0.160296     108        1454   \n",
            "4           1  0.226957  0.229270  0.436957   0.186900      82        1518   \n",
            "\n",
            "    cnt  \n",
            "0   985  \n",
            "1   801  \n",
            "2  1349  \n",
            "3  1562  \n",
            "4  1600  \n",
            "\n",
            "Preview of Hourly Data:\n",
            "   instant      dteday  season  yr  mnth  hr  holiday  weekday  workingday  \\\n",
            "0        1  2011-01-01       1   0     1   0        0        6           0   \n",
            "1        2  2011-01-01       1   0     1   1        0        6           0   \n",
            "2        3  2011-01-01       1   0     1   2        0        6           0   \n",
            "3        4  2011-01-01       1   0     1   3        0        6           0   \n",
            "4        5  2011-01-01       1   0     1   4        0        6           0   \n",
            "\n",
            "   weathersit  temp   atemp   hum  windspeed  casual  registered  cnt  \n",
            "0           1  0.24  0.2879  0.81        0.0       3          13   16  \n",
            "1           1  0.22  0.2727  0.80        0.0       8          32   40  \n",
            "2           1  0.22  0.2727  0.80        0.0       5          27   32  \n",
            "3           1  0.24  0.2879  0.75        0.0       3          10   13  \n",
            "4           1  0.24  0.2879  0.75        0.0       0           1    1  \n"
          ]
        }
      ],
      "source": [
        "day_df = pd.read_csv(\"data/dataset/day.csv\")\n",
        "hour_df = pd.read_csv(\"data/dataset/hour.csv\")\n",
        "\n",
        "print(\"Datasets Loaded Successfully\")\n",
        "\n",
        "# Display first few rows of both datasets\n",
        "print(\"\\nPreview of Daily Data:\")\n",
        "print(day_df.head())  \n",
        "\n",
        "print(\"\\nPreview of Hourly Data:\")\n",
        "print(hour_df.head())  "
      ]
    },
    {
      "cell_type": "markdown",
      "metadata": {
        "id": "MMi6xGaDkbCi"
      },
      "source": [
        "**Insight:**\n",
        "- Dataset harian dan per jam berhasil dimuat.\n",
        "- Dataset harian digunakan untuk melihat tren mingguan dan hari kerja, sementara dataset per jam bisa digunakan untuk analisis lebih rinci jika diperlukan."
      ]
    },
    {
      "cell_type": "markdown",
      "metadata": {
        "id": "FHSiqaZp8DC1"
      },
      "source": [
        "### Assessing Data"
      ]
    },
    {
      "cell_type": "code",
      "execution_count": 8,
      "metadata": {
        "id": "ax-3tEjc9Cj1"
      },
      "outputs": [
        {
          "name": "stdout",
          "output_type": "stream",
          "text": [
            "\n",
            "Checking for Missing Values:\n",
            "Daily Data Missing Values:\n",
            "instant       0\n",
            "dteday        0\n",
            "season        0\n",
            "yr            0\n",
            "mnth          0\n",
            "holiday       0\n",
            "weekday       0\n",
            "workingday    0\n",
            "weathersit    0\n",
            "temp          0\n",
            "atemp         0\n",
            "hum           0\n",
            "windspeed     0\n",
            "casual        0\n",
            "registered    0\n",
            "cnt           0\n",
            "dtype: int64\n",
            "\n",
            "Hourly Data Missing Values:\n",
            "instant       0\n",
            "dteday        0\n",
            "season        0\n",
            "yr            0\n",
            "mnth          0\n",
            "hr            0\n",
            "holiday       0\n",
            "weekday       0\n",
            "workingday    0\n",
            "weathersit    0\n",
            "temp          0\n",
            "atemp         0\n",
            "hum           0\n",
            "windspeed     0\n",
            "casual        0\n",
            "registered    0\n",
            "cnt           0\n",
            "dtype: int64\n"
          ]
        }
      ],
      "source": [
        "# 1. Checking for Missing Values\n",
        "print(\"\\nChecking for Missing Values:\")\n",
        "print(\"Daily Data Missing Values:\")\n",
        "print(day_df.isnull().sum())\n",
        "print(\"\\nHourly Data Missing Values:\")\n",
        "print(hour_df.isnull().sum())"
      ]
    },
    {
      "cell_type": "code",
      "execution_count": 9,
      "metadata": {},
      "outputs": [
        {
          "name": "stdout",
          "output_type": "stream",
          "text": [
            "\n",
            "Checking for Invalid Values:\n",
            "Invalid values in Daily Data: 0\n",
            "Invalid values in Hourly Data: 0\n"
          ]
        }
      ],
      "source": [
        "# 2. Checking for Invalid Values (e.g., negative bike rentals)\n",
        "print(\"\\nChecking for Invalid Values:\")\n",
        "invalid_values_day = day_df[day_df['cnt'] < 0]\n",
        "invalid_values_hour = hour_df[hour_df['cnt'] < 0]\n",
        "print(\"Invalid values in Daily Data:\", len(invalid_values_day))\n",
        "print(\"Invalid values in Hourly Data:\", len(invalid_values_hour))"
      ]
    },
    {
      "cell_type": "code",
      "execution_count": 10,
      "metadata": {},
      "outputs": [
        {
          "name": "stdout",
          "output_type": "stream",
          "text": [
            "\n",
            "Checking for Duplicate Data:\n",
            "Duplicate rows in Daily Data: 0\n",
            "Duplicate rows in Hourly Data: 0\n"
          ]
        }
      ],
      "source": [
        "# 3. Checking for Duplicate Data\n",
        "print(\"\\nChecking for Duplicate Data:\")\n",
        "print(\"Duplicate rows in Daily Data:\", day_df.duplicated().sum())\n",
        "print(\"Duplicate rows in Hourly Data:\", hour_df.duplicated().sum())"
      ]
    },
    {
      "cell_type": "code",
      "execution_count": 11,
      "metadata": {},
      "outputs": [
        {
          "name": "stdout",
          "output_type": "stream",
          "text": [
            "\n",
            "Checking for Inaccurate Values:\n",
            "Daily Data Temperature Range: 0.0591304 to 0.861667\n",
            "Hourly Data Temperature Range: 0.02 to 1.0\n"
          ]
        }
      ],
      "source": [
        "# 4. Checking for Inaccurate Values (e.g., extreme values in temperature or windspeed)\n",
        "print(\"\\nChecking for Inaccurate Values:\")\n",
        "print(\"Daily Data Temperature Range:\", day_df['temp'].min(), \"to\", day_df['temp'].max())\n",
        "print(\"Hourly Data Temperature Range:\", hour_df['temp'].min(), \"to\", hour_df['temp'].max())"
      ]
    },
    {
      "cell_type": "code",
      "execution_count": 12,
      "metadata": {},
      "outputs": [
        {
          "name": "stdout",
          "output_type": "stream",
          "text": [
            "\n",
            "Checking for Inconsistent Values:\n",
            "Inconsistent season values in Daily Data: 0\n",
            "Inconsistent season values in Hourly Data: 0\n"
          ]
        }
      ],
      "source": [
        "# 5. Checking for Inconsistent Values (e.g., incorrect season mapping)\n",
        "print(\"\\nChecking for Inconsistent Values:\")\n",
        "valid_seasons = [1, 2, 3, 4]\n",
        "inconsistent_season_day = day_df[~day_df['season'].isin(valid_seasons)]\n",
        "inconsistent_season_hour = hour_df[~hour_df['season'].isin(valid_seasons)]\n",
        "print(\"Inconsistent season values in Daily Data:\", len(inconsistent_season_day))\n",
        "print(\"Inconsistent season values in Hourly Data:\", len(inconsistent_season_hour))\n"
      ]
    },
    {
      "cell_type": "code",
      "execution_count": 13,
      "metadata": {},
      "outputs": [
        {
          "data": {
            "image/png": "[encoded data removed]",
            "text/plain": [
              "<Figure size 1000x500 with 1 Axes>"
            ]
          },
          "metadata": {},
          "output_type": "display_data"
        },
        {
          "data": {
            "image/png": "[encoded data removed]",
            "text/plain": [
              "<Figure size 1000x500 with 1 Axes>"
            ]
          },
          "metadata": {},
          "output_type": "display_data"
        }
      ],
      "source": [
        "# 6. Checking for Outliers (Using Boxplot)\n",
        "plt.figure(figsize=(10, 5))\n",
        "sns.boxplot(x=day_df['cnt'])\n",
        "plt.title(\"Outlier Detection in Daily Data (Total Rentals)\")\n",
        "plt.show()\n",
        "\n",
        "plt.figure(figsize=(10, 5))\n",
        "sns.boxplot(x=hour_df['cnt'])\n",
        "plt.title(\"Outlier Detection in Hourly Data (Total Rentals)\")\n",
        "plt.show()"
      ]
    },
    {
      "cell_type": "markdown",
      "metadata": {
        "id": "7dtxhAPrkhPL"
      },
      "source": [
        "**Insight:**\n",
        "- Tidak ditemukan missing values dalam dataset, sehingga tidak diperlukan imputasi. (insight #1)\n",
        "- Jika ditemukan nilai negatif dalam jumlah penyewaan sepeda, maka kemungkinan merupakan kesalahan data. (insight #2)\n",
        "- Tidak ada data duplikat dalam dataset. (insight #3)\n",
        "- Jika suhu berada di luar batas normal, bisa jadi ada data yang tidak akurat. (insight #4)\n",
        "- Jika ada season yang bukan 1-4, berarti terdapat inkonsistensi dalam data. (insight #5)\n",
        "- Jika terdapat outlier, perlu dianalisis lebih lanjut apakah outlier tersebut valid atau merupakan error data. (insight #6)"
      ]
    },
    {
      "cell_type": "markdown",
      "metadata": {
        "id": "EhN5R4hr8DC1"
      },
      "source": [
        "### Cleaning Data"
      ]
    },
    {
      "cell_type": "code",
      "execution_count": 14,
      "metadata": {
        "id": "jVnYpprE9Evz"
      },
      "outputs": [
        {
          "name": "stdout",
          "output_type": "stream",
          "text": [
            "\n",
            "Missing values removed\n"
          ]
        }
      ],
      "source": [
        "# 1. Handling Missing Values (Drop or Impute)\n",
        "day_df.dropna(inplace=True)\n",
        "hour_df.dropna(inplace=True)\n",
        "print(\"\\nMissing values removed\")"
      ]
    },
    {
      "cell_type": "code",
      "execution_count": 15,
      "metadata": {},
      "outputs": [
        {
          "name": "stdout",
          "output_type": "stream",
          "text": [
            "\n",
            "Invalid values removed (negative rentals)\n"
          ]
        }
      ],
      "source": [
        "# 2. Handling Invalid Values (Negative Rentals)\n",
        "day_df = day_df[day_df['cnt'] >= 0]\n",
        "hour_df = hour_df[hour_df['cnt'] >= 0]\n",
        "print(\"\\nInvalid values removed (negative rentals)\")"
      ]
    },
    {
      "cell_type": "code",
      "execution_count": 16,
      "metadata": {},
      "outputs": [
        {
          "name": "stdout",
          "output_type": "stream",
          "text": [
            "\n",
            "Inaccurate temperature values removed\n"
          ]
        }
      ],
      "source": [
        "# 3. Handling Inaccurate Values (Temperature Out of Normal Range)\n",
        "valid_temp_range = (0, 1)  # Normalized between 0 and 1\n",
        "day_df = day_df[(day_df['temp'] >= valid_temp_range[0]) & (day_df['temp'] <= valid_temp_range[1])]\n",
        "hour_df = hour_df[(hour_df['temp'] >= valid_temp_range[0]) & (hour_df['temp'] <= valid_temp_range[1])]\n",
        "print(\"\\nInaccurate temperature values removed\")"
      ]
    },
    {
      "cell_type": "code",
      "execution_count": 17,
      "metadata": {},
      "outputs": [
        {
          "name": "stdout",
          "output_type": "stream",
          "text": [
            "\n",
            "Inconsistent season values removed\n"
          ]
        }
      ],
      "source": [
        "# 4. Handling Inconsistent Values (Invalid Season Codes)\n",
        "valid_seasons = [1, 2, 3, 4]\n",
        "day_df = day_df[day_df['season'].isin(valid_seasons)]\n",
        "hour_df = hour_df[hour_df['season'].isin(valid_seasons)]\n",
        "print(\"\\nInconsistent season values removed\")"
      ]
    },
    {
      "cell_type": "code",
      "execution_count": 18,
      "metadata": {},
      "outputs": [
        {
          "name": "stdout",
          "output_type": "stream",
          "text": [
            "\n",
            "Duplicate rows removed\n"
          ]
        }
      ],
      "source": [
        "# 5. Handling Duplicate Data\n",
        "day_df.drop_duplicates(inplace=True)\n",
        "hour_df.drop_duplicates(inplace=True)\n",
        "print(\"\\nDuplicate rows removed\")"
      ]
    },
    {
      "cell_type": "code",
      "execution_count": 19,
      "metadata": {},
      "outputs": [
        {
          "name": "stdout",
          "output_type": "stream",
          "text": [
            "\n",
            "Outliers removed from rental count\n"
          ]
        }
      ],
      "source": [
        "# 6. Handling Outliers (Using IQR method for 'cnt' column)\n",
        "def remove_outliers(df, column):\n",
        "    Q1 = df[column].quantile(0.25)\n",
        "    Q3 = df[column].quantile(0.75)\n",
        "    IQR = Q3 - Q1\n",
        "    min_val = Q1 - (1.5 * IQR)\n",
        "    max_val = Q3 + (1.5 * IQR)\n",
        "    return df[(df[column] >= min_val) & (df[column] <= max_val)]\n",
        "\n",
        "day_df = remove_outliers(day_df, 'cnt')\n",
        "hour_df = remove_outliers(hour_df, 'cnt')\n",
        "print(\"\\nOutliers removed from rental count\")"
      ]
    },
    {
      "cell_type": "markdown",
      "metadata": {
        "id": "Q_5ejIqckiSP"
      },
      "source": [
        "**Insight:**\n",
        "- Menghapus missing values memastikan data yang digunakan lengkap dan tidak mempengaruhi analisis. (insight #1)\n",
        "- Tidak ada nilai negatif yang masuk akal dalam jumlah penyewaan sepeda, jadi data ini harus dihapus. (insight #2)\n",
        "- Suhu yang berada di luar batas normal bisa menyebabkan bias dalam analisis cuaca dan penyewaan. (insight #3)\n",
        "- Data dengan season di luar rentang 1-4 bisa menyebabkan kesalahan dalam analisis tren musiman. (insight #4)\n",
        "- Menghapus duplikasi memastikan bahwa setiap baris data unik dan tidak ada pengaruh ganda pada analisis. (insight #5)\n",
        "- Menghapus outlier membantu meningkatkan akurasi model dan analisis statistik dengan menghindari pengaruh nilai ekstrem. (insight #6)\n",
        "- Data telah dibersihkan dari missing values, nilai tidak valid, duplikasi, inkonsistensi, dan outlier sehingga siap untuk dianalisis lebih lanjut."
      ]
    },
    {
      "cell_type": "code",
      "execution_count": 20,
      "metadata": {},
      "outputs": [
        {
          "name": "stdout",
          "output_type": "stream",
          "text": [
            "\n",
            "Preview of Cleaned Daily Data:\n",
            "   instant      dteday  season  yr  mnth  holiday  weekday  workingday  \\\n",
            "0        1  2011-01-01       1   0     1        0        6           0   \n",
            "1        2  2011-01-02       1   0     1        0        0           0   \n",
            "2        3  2011-01-03       1   0     1        0        1           1   \n",
            "3        4  2011-01-04       1   0     1        0        2           1   \n",
            "4        5  2011-01-05       1   0     1        0        3           1   \n",
            "\n",
            "   weathersit      temp     atemp       hum  windspeed  casual  registered  \\\n",
            "0           2  0.344167  0.363625  0.805833   0.160446     331         654   \n",
            "1           2  0.363478  0.353739  0.696087   0.248539     131         670   \n",
            "2           1  0.196364  0.189405  0.437273   0.248309     120        1229   \n",
            "3           1  0.200000  0.212122  0.590435   0.160296     108        1454   \n",
            "4           1  0.226957  0.229270  0.436957   0.186900      82        1518   \n",
            "\n",
            "    cnt  \n",
            "0   985  \n",
            "1   801  \n",
            "2  1349  \n",
            "3  1562  \n",
            "4  1600  \n",
            "\n",
            "Preview of Cleaned Hourly Data:\n",
            "   instant      dteday  season  yr  mnth  hr  holiday  weekday  workingday  \\\n",
            "0        1  2011-01-01       1   0     1   0        0        6           0   \n",
            "1        2  2011-01-01       1   0     1   1        0        6           0   \n",
            "2        3  2011-01-01       1   0     1   2        0        6           0   \n",
            "3        4  2011-01-01       1   0     1   3        0        6           0   \n",
            "4        5  2011-01-01       1   0     1   4        0        6           0   \n",
            "\n",
            "   weathersit  temp   atemp   hum  windspeed  casual  registered  cnt  \n",
            "0           1  0.24  0.2879  0.81        0.0       3          13   16  \n",
            "1           1  0.22  0.2727  0.80        0.0       8          32   40  \n",
            "2           1  0.22  0.2727  0.80        0.0       5          27   32  \n",
            "3           1  0.24  0.2879  0.75        0.0       3          10   13  \n",
            "4           1  0.24  0.2879  0.75        0.0       0           1    1  \n"
          ]
        }
      ],
      "source": [
        "# Display cleaned data\n",
        "print(\"\\nPreview of Cleaned Daily Data:\")\n",
        "print(day_df.head())\n",
        "print(\"\\nPreview of Cleaned Hourly Data:\")\n",
        "print(hour_df.head())\n"
      ]
    },
    {
      "cell_type": "markdown",
      "metadata": {
        "id": "gp-Y6wU38DC1"
      },
      "source": [
        "## Exploratory Data Analysis (EDA)"
      ]
    },
    {
      "cell_type": "markdown",
      "metadata": {
        "id": "MW7WF2kr8DC1"
      },
      "source": [
        "### Explore ..."
      ]
    },
    {
      "cell_type": "code",
      "execution_count": null,
      "metadata": {
        "id": "e9CQCZjk8DC2"
      },
      "outputs": [
        {
          "name": "stdout",
          "output_type": "stream",
          "text": [
            "\n",
            "Descriptive Statistics for Daily Data:\n"
          ]
        },
        {
          "data": {
            "text/html": [
              "<div>\n",
              "<style scoped>\n",
              "    .dataframe tbody tr th:only-of-type {\n",
              "        vertical-align: middle;\n",
              "    }\n",
              "\n",
              "    .dataframe tbody tr th {\n",
              "        vertical-align: top;\n",
              "    }\n",
              "\n",
              "    .dataframe thead th {\n",
              "        text-align: right;\n",
              "    }\n",
              "</style>\n",
              "<table border=\"1\" class=\"dataframe\">\n",
              "  <thead>\n",
              "    <tr style=\"text-align: right;\">\n",
              "      <th></th>\n",
              "      <th>instant</th>\n",
              "      <th>dteday</th>\n",
              "      <th>season</th>\n",
              "      <th>yr</th>\n",
              "      <th>mnth</th>\n",
              "      <th>holiday</th>\n",
              "      <th>weekday</th>\n",
              "      <th>workingday</th>\n",
              "      <th>weathersit</th>\n",
              "      <th>temp</th>\n",
              "      <th>atemp</th>\n",
              "      <th>hum</th>\n",
              "      <th>windspeed</th>\n",
              "      <th>casual</th>\n",
              "      <th>registered</th>\n",
              "      <th>cnt</th>\n",
              "    </tr>\n",
              "  </thead>\n",
              "  <tbody>\n",
              "    <tr>\n",
              "      <th>count</th>\n",
              "      <td>731.000000</td>\n",
              "      <td>731</td>\n",
              "      <td>731.000000</td>\n",
              "      <td>731.000000</td>\n",
              "      <td>731.000000</td>\n",
              "      <td>731.000000</td>\n",
              "      <td>731.000000</td>\n",
              "      <td>731.000000</td>\n",
              "      <td>731.000000</td>\n",
              "      <td>731.000000</td>\n",
              "      <td>731.000000</td>\n",
              "      <td>731.000000</td>\n",
              "      <td>731.000000</td>\n",
              "      <td>731.000000</td>\n",
              "      <td>731.000000</td>\n",
              "      <td>731.000000</td>\n",
              "    </tr>\n",
              "    <tr>\n",
              "      <th>unique</th>\n",
              "      <td>NaN</td>\n",
              "      <td>731</td>\n",
              "      <td>NaN</td>\n",
              "      <td>NaN</td>\n",
              "      <td>NaN</td>\n",
              "      <td>NaN</td>\n",
              "      <td>NaN</td>\n",
              "      <td>NaN</td>\n",
              "      <td>NaN</td>\n",
              "      <td>NaN</td>\n",
              "      <td>NaN</td>\n",
              "      <td>NaN</td>\n",
              "      <td>NaN</td>\n",
              "      <td>NaN</td>\n",
              "      <td>NaN</td>\n",
              "      <td>NaN</td>\n",
              "    </tr>\n",
              "    <tr>\n",
              "      <th>top</th>\n",
              "      <td>NaN</td>\n",
              "      <td>2011-01-01</td>\n",
              "      <td>NaN</td>\n",
              "      <td>NaN</td>\n",
              "      <td>NaN</td>\n",
              "      <td>NaN</td>\n",
              "      <td>NaN</td>\n",
              "      <td>NaN</td>\n",
              "      <td>NaN</td>\n",
              "      <td>NaN</td>\n",
              "      <td>NaN</td>\n",
              "      <td>NaN</td>\n",
              "      <td>NaN</td>\n",
              "      <td>NaN</td>\n",
              "      <td>NaN</td>\n",
              "      <td>NaN</td>\n",
              "    </tr>\n",
              "    <tr>\n",
              "      <th>freq</th>\n",
              "      <td>NaN</td>\n",
              "      <td>1</td>\n",
              "      <td>NaN</td>\n",
              "      <td>NaN</td>\n",
              "      <td>NaN</td>\n",
              "      <td>NaN</td>\n",
              "      <td>NaN</td>\n",
              "      <td>NaN</td>\n",
              "      <td>NaN</td>\n",
              "      <td>NaN</td>\n",
              "      <td>NaN</td>\n",
              "      <td>NaN</td>\n",
              "      <td>NaN</td>\n",
              "      <td>NaN</td>\n",
              "      <td>NaN</td>\n",
              "      <td>NaN</td>\n",
              "    </tr>\n",
              "    <tr>\n",
              "      <th>mean</th>\n",
              "      <td>366.000000</td>\n",
              "      <td>NaN</td>\n",
              "      <td>2.496580</td>\n",
              "      <td>0.500684</td>\n",
              "      <td>6.519836</td>\n",
              "      <td>0.028728</td>\n",
              "      <td>2.997264</td>\n",
              "      <td>0.683995</td>\n",
              "      <td>1.395349</td>\n",
              "      <td>0.495385</td>\n",
              "      <td>0.474354</td>\n",
              "      <td>0.627894</td>\n",
              "      <td>0.190486</td>\n",
              "      <td>848.176471</td>\n",
              "      <td>3656.172367</td>\n",
              "      <td>4504.348837</td>\n",
              "    </tr>\n",
              "    <tr>\n",
              "      <th>std</th>\n",
              "      <td>211.165812</td>\n",
              "      <td>NaN</td>\n",
              "      <td>1.110807</td>\n",
              "      <td>0.500342</td>\n",
              "      <td>3.451913</td>\n",
              "      <td>0.167155</td>\n",
              "      <td>2.004787</td>\n",
              "      <td>0.465233</td>\n",
              "      <td>0.544894</td>\n",
              "      <td>0.183051</td>\n",
              "      <td>0.162961</td>\n",
              "      <td>0.142429</td>\n",
              "      <td>0.077498</td>\n",
              "      <td>686.622488</td>\n",
              "      <td>1560.256377</td>\n",
              "      <td>1937.211452</td>\n",
              "    </tr>\n",
              "    <tr>\n",
              "      <th>min</th>\n",
              "      <td>1.000000</td>\n",
              "      <td>NaN</td>\n",
              "      <td>1.000000</td>\n",
              "      <td>0.000000</td>\n",
              "      <td>1.000000</td>\n",
              "      <td>0.000000</td>\n",
              "      <td>0.000000</td>\n",
              "      <td>0.000000</td>\n",
              "      <td>1.000000</td>\n",
              "      <td>0.059130</td>\n",
              "      <td>0.079070</td>\n",
              "      <td>0.000000</td>\n",
              "      <td>0.022392</td>\n",
              "      <td>2.000000</td>\n",
              "      <td>20.000000</td>\n",
              "      <td>22.000000</td>\n",
              "    </tr>\n",
              "    <tr>\n",
              "      <th>25%</th>\n",
              "      <td>183.500000</td>\n",
              "      <td>NaN</td>\n",
              "      <td>2.000000</td>\n",
              "      <td>0.000000</td>\n",
              "      <td>4.000000</td>\n",
              "      <td>0.000000</td>\n",
              "      <td>1.000000</td>\n",
              "      <td>0.000000</td>\n",
              "      <td>1.000000</td>\n",
              "      <td>0.337083</td>\n",
              "      <td>0.337842</td>\n",
              "      <td>0.520000</td>\n",
              "      <td>0.134950</td>\n",
              "      <td>315.500000</td>\n",
              "      <td>2497.000000</td>\n",
              "      <td>3152.000000</td>\n",
              "    </tr>\n",
              "    <tr>\n",
              "      <th>50%</th>\n",
              "      <td>366.000000</td>\n",
              "      <td>NaN</td>\n",
              "      <td>3.000000</td>\n",
              "      <td>1.000000</td>\n",
              "      <td>7.000000</td>\n",
              "      <td>0.000000</td>\n",
              "      <td>3.000000</td>\n",
              "      <td>1.000000</td>\n",
              "      <td>1.000000</td>\n",
              "      <td>0.498333</td>\n",
              "      <td>0.486733</td>\n",
              "      <td>0.626667</td>\n",
              "      <td>0.180975</td>\n",
              "      <td>713.000000</td>\n",
              "      <td>3662.000000</td>\n",
              "      <td>4548.000000</td>\n",
              "    </tr>\n",
              "    <tr>\n",
              "      <th>75%</th>\n",
              "      <td>548.500000</td>\n",
              "      <td>NaN</td>\n",
              "      <td>3.000000</td>\n",
              "      <td>1.000000</td>\n",
              "      <td>10.000000</td>\n",
              "      <td>0.000000</td>\n",
              "      <td>5.000000</td>\n",
              "      <td>1.000000</td>\n",
              "      <td>2.000000</td>\n",
              "      <td>0.655417</td>\n",
              "      <td>0.608602</td>\n",
              "      <td>0.730209</td>\n",
              "      <td>0.233214</td>\n",
              "      <td>1096.000000</td>\n",
              "      <td>4776.500000</td>\n",
              "      <td>5956.000000</td>\n",
              "    </tr>\n",
              "    <tr>\n",
              "      <th>max</th>\n",
              "      <td>731.000000</td>\n",
              "      <td>NaN</td>\n",
              "      <td>4.000000</td>\n",
              "      <td>1.000000</td>\n",
              "      <td>12.000000</td>\n",
              "      <td>1.000000</td>\n",
              "      <td>6.000000</td>\n",
              "      <td>1.000000</td>\n",
              "      <td>3.000000</td>\n",
              "      <td>0.861667</td>\n",
              "      <td>0.840896</td>\n",
              "      <td>0.972500</td>\n",
              "      <td>0.507463</td>\n",
              "      <td>3410.000000</td>\n",
              "      <td>6946.000000</td>\n",
              "      <td>8714.000000</td>\n",
              "    </tr>\n",
              "  </tbody>\n",
              "</table>\n",
              "</div>"
            ],
            "text/plain": [
              "           instant      dteday      season          yr        mnth  \\\n",
              "count   731.000000         731  731.000000  731.000000  731.000000   \n",
              "unique         NaN         731         NaN         NaN         NaN   \n",
              "top            NaN  2011-01-01         NaN         NaN         NaN   \n",
              "freq           NaN           1         NaN         NaN         NaN   \n",
              "mean    366.000000         NaN    2.496580    0.500684    6.519836   \n",
              "std     211.165812         NaN    1.110807    0.500342    3.451913   \n",
              "min       1.000000         NaN    1.000000    0.000000    1.000000   \n",
              "25%     183.500000         NaN    2.000000    0.000000    4.000000   \n",
              "50%     366.000000         NaN    3.000000    1.000000    7.000000   \n",
              "75%     548.500000         NaN    3.000000    1.000000   10.000000   \n",
              "max     731.000000         NaN    4.000000    1.000000   12.000000   \n",
              "\n",
              "           holiday     weekday  workingday  weathersit        temp  \\\n",
              "count   731.000000  731.000000  731.000000  731.000000  731.000000   \n",
              "unique         NaN         NaN         NaN         NaN         NaN   \n",
              "top            NaN         NaN         NaN         NaN         NaN   \n",
              "freq           NaN         NaN         NaN         NaN         NaN   \n",
              "mean      0.028728    2.997264    0.683995    1.395349    0.495385   \n",
              "std       0.167155    2.004787    0.465233    0.544894    0.183051   \n",
              "min       0.000000    0.000000    0.000000    1.000000    0.059130   \n",
              "25%       0.000000    1.000000    0.000000    1.000000    0.337083   \n",
              "50%       0.000000    3.000000    1.000000    1.000000    0.498333   \n",
              "75%       0.000000    5.000000    1.000000    2.000000    0.655417   \n",
              "max       1.000000    6.000000    1.000000    3.000000    0.861667   \n",
              "\n",
              "             atemp         hum   windspeed       casual   registered  \\\n",
              "count   731.000000  731.000000  731.000000   731.000000   731.000000   \n",
              "unique         NaN         NaN         NaN          NaN          NaN   \n",
              "top            NaN         NaN         NaN          NaN          NaN   \n",
              "freq           NaN         NaN         NaN          NaN          NaN   \n",
              "mean      0.474354    0.627894    0.190486   848.176471  3656.172367   \n",
              "std       0.162961    0.142429    0.077498   686.622488  1560.256377   \n",
              "min       0.079070    0.000000    0.022392     2.000000    20.000000   \n",
              "25%       0.337842    0.520000    0.134950   315.500000  2497.000000   \n",
              "50%       0.486733    0.626667    0.180975   713.000000  3662.000000   \n",
              "75%       0.608602    0.730209    0.233214  1096.000000  4776.500000   \n",
              "max       0.840896    0.972500    0.507463  3410.000000  6946.000000   \n",
              "\n",
              "                cnt  \n",
              "count    731.000000  \n",
              "unique          NaN  \n",
              "top             NaN  \n",
              "freq            NaN  \n",
              "mean    4504.348837  \n",
              "std     1937.211452  \n",
              "min       22.000000  \n",
              "25%     3152.000000  \n",
              "50%     4548.000000  \n",
              "75%     5956.000000  \n",
              "max     8714.000000  "
            ]
          },
          "execution_count": 23,
          "metadata": {},
          "output_type": "execute_result"
        }
      ],
      "source": [
        "# 1. Mengeksplorasi Parameter Statistik dari Data Day\n",
        "print(\"\\nDescriptive Statistics for Daily Data:\")\n",
        "day_df.describe(include=\"all\")"
      ]
    },
    {
      "cell_type": "code",
      "execution_count": null,
      "metadata": {},
      "outputs": [
        {
          "name": "stdout",
          "output_type": "stream",
          "text": [
            "\n",
            "Descriptive Statistics for Hourly Data:\n"
          ]
        },
        {
          "data": {
            "text/html": [
              "<div>\n",
              "<style scoped>\n",
              "    .dataframe tbody tr th:only-of-type {\n",
              "        vertical-align: middle;\n",
              "    }\n",
              "\n",
              "    .dataframe tbody tr th {\n",
              "        vertical-align: top;\n",
              "    }\n",
              "\n",
              "    .dataframe thead th {\n",
              "        text-align: right;\n",
              "    }\n",
              "</style>\n",
              "<table border=\"1\" class=\"dataframe\">\n",
              "  <thead>\n",
              "    <tr style=\"text-align: right;\">\n",
              "      <th></th>\n",
              "      <th>instant</th>\n",
              "      <th>dteday</th>\n",
              "      <th>season</th>\n",
              "      <th>yr</th>\n",
              "      <th>mnth</th>\n",
              "      <th>hr</th>\n",
              "      <th>holiday</th>\n",
              "      <th>weekday</th>\n",
              "      <th>workingday</th>\n",
              "      <th>weathersit</th>\n",
              "      <th>temp</th>\n",
              "      <th>atemp</th>\n",
              "      <th>hum</th>\n",
              "      <th>windspeed</th>\n",
              "      <th>casual</th>\n",
              "      <th>registered</th>\n",
              "      <th>cnt</th>\n",
              "    </tr>\n",
              "  </thead>\n",
              "  <tbody>\n",
              "    <tr>\n",
              "      <th>count</th>\n",
              "      <td>16874.000000</td>\n",
              "      <td>16874</td>\n",
              "      <td>16874.000000</td>\n",
              "      <td>16874.000000</td>\n",
              "      <td>16874.000000</td>\n",
              "      <td>16874.000000</td>\n",
              "      <td>16874.000000</td>\n",
              "      <td>16874.000000</td>\n",
              "      <td>16874.000000</td>\n",
              "      <td>16874.000000</td>\n",
              "      <td>16874.000000</td>\n",
              "      <td>16874.000000</td>\n",
              "      <td>16874.000000</td>\n",
              "      <td>16874.000000</td>\n",
              "      <td>16874.000000</td>\n",
              "      <td>16874.000000</td>\n",
              "      <td>16874.000000</td>\n",
              "    </tr>\n",
              "    <tr>\n",
              "      <th>unique</th>\n",
              "      <td>NaN</td>\n",
              "      <td>731</td>\n",
              "      <td>NaN</td>\n",
              "      <td>NaN</td>\n",
              "      <td>NaN</td>\n",
              "      <td>NaN</td>\n",
              "      <td>NaN</td>\n",
              "      <td>NaN</td>\n",
              "      <td>NaN</td>\n",
              "      <td>NaN</td>\n",
              "      <td>NaN</td>\n",
              "      <td>NaN</td>\n",
              "      <td>NaN</td>\n",
              "      <td>NaN</td>\n",
              "      <td>NaN</td>\n",
              "      <td>NaN</td>\n",
              "      <td>NaN</td>\n",
              "    </tr>\n",
              "    <tr>\n",
              "      <th>top</th>\n",
              "      <td>NaN</td>\n",
              "      <td>2011-01-01</td>\n",
              "      <td>NaN</td>\n",
              "      <td>NaN</td>\n",
              "      <td>NaN</td>\n",
              "      <td>NaN</td>\n",
              "      <td>NaN</td>\n",
              "      <td>NaN</td>\n",
              "      <td>NaN</td>\n",
              "      <td>NaN</td>\n",
              "      <td>NaN</td>\n",
              "      <td>NaN</td>\n",
              "      <td>NaN</td>\n",
              "      <td>NaN</td>\n",
              "      <td>NaN</td>\n",
              "      <td>NaN</td>\n",
              "      <td>NaN</td>\n",
              "    </tr>\n",
              "    <tr>\n",
              "      <th>freq</th>\n",
              "      <td>NaN</td>\n",
              "      <td>24</td>\n",
              "      <td>NaN</td>\n",
              "      <td>NaN</td>\n",
              "      <td>NaN</td>\n",
              "      <td>NaN</td>\n",
              "      <td>NaN</td>\n",
              "      <td>NaN</td>\n",
              "      <td>NaN</td>\n",
              "      <td>NaN</td>\n",
              "      <td>NaN</td>\n",
              "      <td>NaN</td>\n",
              "      <td>NaN</td>\n",
              "      <td>NaN</td>\n",
              "      <td>NaN</td>\n",
              "      <td>NaN</td>\n",
              "      <td>NaN</td>\n",
              "    </tr>\n",
              "    <tr>\n",
              "      <th>mean</th>\n",
              "      <td>8542.168899</td>\n",
              "      <td>NaN</td>\n",
              "      <td>2.490399</td>\n",
              "      <td>0.487733</td>\n",
              "      <td>6.513275</td>\n",
              "      <td>11.458101</td>\n",
              "      <td>0.029513</td>\n",
              "      <td>2.997748</td>\n",
              "      <td>0.678618</td>\n",
              "      <td>1.430663</td>\n",
              "      <td>0.492650</td>\n",
              "      <td>0.471970</td>\n",
              "      <td>0.630412</td>\n",
              "      <td>0.189619</td>\n",
              "      <td>33.418632</td>\n",
              "      <td>139.291514</td>\n",
              "      <td>172.710146</td>\n",
              "    </tr>\n",
              "    <tr>\n",
              "      <th>std</th>\n",
              "      <td>5007.766040</td>\n",
              "      <td>NaN</td>\n",
              "      <td>1.111966</td>\n",
              "      <td>0.499864</td>\n",
              "      <td>3.462438</td>\n",
              "      <td>6.962144</td>\n",
              "      <td>0.169244</td>\n",
              "      <td>2.013054</td>\n",
              "      <td>0.467021</td>\n",
              "      <td>0.642689</td>\n",
              "      <td>0.192455</td>\n",
              "      <td>0.171878</td>\n",
              "      <td>0.192600</td>\n",
              "      <td>0.122460</td>\n",
              "      <td>45.896591</td>\n",
              "      <td>126.052802</td>\n",
              "      <td>155.020918</td>\n",
              "    </tr>\n",
              "    <tr>\n",
              "      <th>min</th>\n",
              "      <td>1.000000</td>\n",
              "      <td>NaN</td>\n",
              "      <td>1.000000</td>\n",
              "      <td>0.000000</td>\n",
              "      <td>1.000000</td>\n",
              "      <td>0.000000</td>\n",
              "      <td>0.000000</td>\n",
              "      <td>0.000000</td>\n",
              "      <td>0.000000</td>\n",
              "      <td>1.000000</td>\n",
              "      <td>0.020000</td>\n",
              "      <td>0.000000</td>\n",
              "      <td>0.000000</td>\n",
              "      <td>0.000000</td>\n",
              "      <td>0.000000</td>\n",
              "      <td>0.000000</td>\n",
              "      <td>1.000000</td>\n",
              "    </tr>\n",
              "    <tr>\n",
              "      <th>25%</th>\n",
              "      <td>4219.250000</td>\n",
              "      <td>NaN</td>\n",
              "      <td>1.000000</td>\n",
              "      <td>0.000000</td>\n",
              "      <td>4.000000</td>\n",
              "      <td>5.000000</td>\n",
              "      <td>0.000000</td>\n",
              "      <td>1.000000</td>\n",
              "      <td>0.000000</td>\n",
              "      <td>1.000000</td>\n",
              "      <td>0.340000</td>\n",
              "      <td>0.333300</td>\n",
              "      <td>0.480000</td>\n",
              "      <td>0.104500</td>\n",
              "      <td>4.000000</td>\n",
              "      <td>32.000000</td>\n",
              "      <td>38.000000</td>\n",
              "    </tr>\n",
              "    <tr>\n",
              "      <th>50%</th>\n",
              "      <td>8438.500000</td>\n",
              "      <td>NaN</td>\n",
              "      <td>2.000000</td>\n",
              "      <td>0.000000</td>\n",
              "      <td>7.000000</td>\n",
              "      <td>11.000000</td>\n",
              "      <td>0.000000</td>\n",
              "      <td>3.000000</td>\n",
              "      <td>1.000000</td>\n",
              "      <td>1.000000</td>\n",
              "      <td>0.500000</td>\n",
              "      <td>0.484800</td>\n",
              "      <td>0.630000</td>\n",
              "      <td>0.179100</td>\n",
              "      <td>15.000000</td>\n",
              "      <td>111.000000</td>\n",
              "      <td>135.000000</td>\n",
              "    </tr>\n",
              "    <tr>\n",
              "      <th>75%</th>\n",
              "      <td>12832.750000</td>\n",
              "      <td>NaN</td>\n",
              "      <td>3.000000</td>\n",
              "      <td>1.000000</td>\n",
              "      <td>10.000000</td>\n",
              "      <td>18.000000</td>\n",
              "      <td>0.000000</td>\n",
              "      <td>5.000000</td>\n",
              "      <td>1.000000</td>\n",
              "      <td>2.000000</td>\n",
              "      <td>0.640000</td>\n",
              "      <td>0.621200</td>\n",
              "      <td>0.790000</td>\n",
              "      <td>0.253700</td>\n",
              "      <td>45.000000</td>\n",
              "      <td>208.000000</td>\n",
              "      <td>265.750000</td>\n",
              "    </tr>\n",
              "    <tr>\n",
              "      <th>max</th>\n",
              "      <td>17379.000000</td>\n",
              "      <td>NaN</td>\n",
              "      <td>4.000000</td>\n",
              "      <td>1.000000</td>\n",
              "      <td>12.000000</td>\n",
              "      <td>23.000000</td>\n",
              "      <td>1.000000</td>\n",
              "      <td>6.000000</td>\n",
              "      <td>1.000000</td>\n",
              "      <td>4.000000</td>\n",
              "      <td>1.000000</td>\n",
              "      <td>1.000000</td>\n",
              "      <td>1.000000</td>\n",
              "      <td>0.850700</td>\n",
              "      <td>354.000000</td>\n",
              "      <td>629.000000</td>\n",
              "      <td>642.000000</td>\n",
              "    </tr>\n",
              "  </tbody>\n",
              "</table>\n",
              "</div>"
            ],
            "text/plain": [
              "             instant      dteday        season            yr          mnth  \\\n",
              "count   16874.000000       16874  16874.000000  16874.000000  16874.000000   \n",
              "unique           NaN         731           NaN           NaN           NaN   \n",
              "top              NaN  2011-01-01           NaN           NaN           NaN   \n",
              "freq             NaN          24           NaN           NaN           NaN   \n",
              "mean     8542.168899         NaN      2.490399      0.487733      6.513275   \n",
              "std      5007.766040         NaN      1.111966      0.499864      3.462438   \n",
              "min         1.000000         NaN      1.000000      0.000000      1.000000   \n",
              "25%      4219.250000         NaN      1.000000      0.000000      4.000000   \n",
              "50%      8438.500000         NaN      2.000000      0.000000      7.000000   \n",
              "75%     12832.750000         NaN      3.000000      1.000000     10.000000   \n",
              "max     17379.000000         NaN      4.000000      1.000000     12.000000   \n",
              "\n",
              "                  hr       holiday       weekday    workingday    weathersit  \\\n",
              "count   16874.000000  16874.000000  16874.000000  16874.000000  16874.000000   \n",
              "unique           NaN           NaN           NaN           NaN           NaN   \n",
              "top              NaN           NaN           NaN           NaN           NaN   \n",
              "freq             NaN           NaN           NaN           NaN           NaN   \n",
              "mean       11.458101      0.029513      2.997748      0.678618      1.430663   \n",
              "std         6.962144      0.169244      2.013054      0.467021      0.642689   \n",
              "min         0.000000      0.000000      0.000000      0.000000      1.000000   \n",
              "25%         5.000000      0.000000      1.000000      0.000000      1.000000   \n",
              "50%        11.000000      0.000000      3.000000      1.000000      1.000000   \n",
              "75%        18.000000      0.000000      5.000000      1.000000      2.000000   \n",
              "max        23.000000      1.000000      6.000000      1.000000      4.000000   \n",
              "\n",
              "                temp         atemp           hum     windspeed        casual  \\\n",
              "count   16874.000000  16874.000000  16874.000000  16874.000000  16874.000000   \n",
              "unique           NaN           NaN           NaN           NaN           NaN   \n",
              "top              NaN           NaN           NaN           NaN           NaN   \n",
              "freq             NaN           NaN           NaN           NaN           NaN   \n",
              "mean        0.492650      0.471970      0.630412      0.189619     33.418632   \n",
              "std         0.192455      0.171878      0.192600      0.122460     45.896591   \n",
              "min         0.020000      0.000000      0.000000      0.000000      0.000000   \n",
              "25%         0.340000      0.333300      0.480000      0.104500      4.000000   \n",
              "50%         0.500000      0.484800      0.630000      0.179100     15.000000   \n",
              "75%         0.640000      0.621200      0.790000      0.253700     45.000000   \n",
              "max         1.000000      1.000000      1.000000      0.850700    354.000000   \n",
              "\n",
              "          registered           cnt  \n",
              "count   16874.000000  16874.000000  \n",
              "unique           NaN           NaN  \n",
              "top              NaN           NaN  \n",
              "freq             NaN           NaN  \n",
              "mean      139.291514    172.710146  \n",
              "std       126.052802    155.020918  \n",
              "min         0.000000      1.000000  \n",
              "25%        32.000000     38.000000  \n",
              "50%       111.000000    135.000000  \n",
              "75%       208.000000    265.750000  \n",
              "max       629.000000    642.000000  "
            ]
          },
          "execution_count": 24,
          "metadata": {},
          "output_type": "execute_result"
        }
      ],
      "source": [
        "# 2. Mengeksplorasi Parameter Statistik dari Data Hour\n",
        "print(\"\\nDescriptive Statistics for Hourly Data:\")\n",
        "hour_df.describe(include=\"all\")"
      ]
    },
    {
      "cell_type": "code",
      "execution_count": null,
      "metadata": {},
      "outputs": [
        {
          "name": "stdout",
          "output_type": "stream",
          "text": [
            "\n",
            "Correlation Matrix (Daily Data):\n",
            "             instant    season        yr      mnth   holiday   weekday  \\\n",
            "instant     1.000000  0.412224  0.866025  0.496702  0.016145 -0.000016   \n",
            "season      0.412224  1.000000 -0.001844  0.831440 -0.010537 -0.003080   \n",
            "yr          0.866025 -0.001844  1.000000 -0.001792  0.007954 -0.005461   \n",
            "mnth        0.496702  0.831440 -0.001792  1.000000  0.019191  0.009509   \n",
            "holiday     0.016145 -0.010537  0.007954  0.019191  1.000000 -0.101960   \n",
            "weekday    -0.000016 -0.003080 -0.005461  0.009509 -0.101960  1.000000   \n",
            "workingday -0.004337  0.012485 -0.002013 -0.005901 -0.253023  0.035790   \n",
            "weathersit -0.021477  0.019211 -0.048727  0.043528 -0.034627  0.031087   \n",
            "temp        0.150580  0.334315  0.047604  0.220205 -0.028556 -0.000170   \n",
            "atemp       0.152638  0.342876  0.046106  0.227459 -0.032507 -0.007537   \n",
            "hum         0.016375  0.205445 -0.110651  0.222204 -0.015937 -0.052232   \n",
            "windspeed  -0.112620 -0.229046 -0.011817 -0.207502  0.006292  0.014282   \n",
            "casual      0.275255  0.210399  0.248546  0.123006  0.054274  0.059923   \n",
            "registered  0.659623  0.411623  0.594248  0.293488 -0.108745  0.057367   \n",
            "cnt         0.628830  0.406100  0.566710  0.279977 -0.068348  0.067443   \n",
            "\n",
            "            workingday  weathersit      temp     atemp       hum  windspeed  \\\n",
            "instant      -0.004337   -0.021477  0.150580  0.152638  0.016375  -0.112620   \n",
            "season        0.012485    0.019211  0.334315  0.342876  0.205445  -0.229046   \n",
            "yr           -0.002013   -0.048727  0.047604  0.046106 -0.110651  -0.011817   \n",
            "mnth         -0.005901    0.043528  0.220205  0.227459  0.222204  -0.207502   \n",
            "holiday      -0.253023   -0.034627 -0.028556 -0.032507 -0.015937   0.006292   \n",
            "weekday       0.035790    0.031087 -0.000170 -0.007537 -0.052232   0.014282   \n",
            "workingday    1.000000    0.061200  0.052660  0.052182  0.024327  -0.018796   \n",
            "weathersit    0.061200    1.000000 -0.120602 -0.121583  0.591045   0.039511   \n",
            "temp          0.052660   -0.120602  1.000000  0.991702  0.126963  -0.157944   \n",
            "atemp         0.052182   -0.121583  0.991702  1.000000  0.139988  -0.183643   \n",
            "hum           0.024327    0.591045  0.126963  0.139988  1.000000  -0.248489   \n",
            "windspeed    -0.018796    0.039511 -0.157944 -0.183643 -0.248489   1.000000   \n",
            "casual       -0.518044   -0.247353  0.543285  0.543864 -0.077008  -0.167613   \n",
            "registered    0.303907   -0.260388  0.540012  0.544192 -0.091089  -0.217449   \n",
            "cnt           0.061156   -0.297391  0.627494  0.631066 -0.100659  -0.234545   \n",
            "\n",
            "              casual  registered       cnt  \n",
            "instant     0.275255    0.659623  0.628830  \n",
            "season      0.210399    0.411623  0.406100  \n",
            "yr          0.248546    0.594248  0.566710  \n",
            "mnth        0.123006    0.293488  0.279977  \n",
            "holiday     0.054274   -0.108745 -0.068348  \n",
            "weekday     0.059923    0.057367  0.067443  \n",
            "workingday -0.518044    0.303907  0.061156  \n",
            "weathersit -0.247353   -0.260388 -0.297391  \n",
            "temp        0.543285    0.540012  0.627494  \n",
            "atemp       0.543864    0.544192  0.631066  \n",
            "hum        -0.077008   -0.091089 -0.100659  \n",
            "windspeed  -0.167613   -0.217449 -0.234545  \n",
            "casual      1.000000    0.395282  0.672804  \n",
            "registered  0.395282    1.000000  0.945517  \n",
            "cnt         0.672804    0.945517  1.000000  \n"
          ]
        }
      ],
      "source": [
        "# 3. Hitung Korelasi\n",
        "# Drop kolom non-numerik sebelum menghitung korelasi\n",
        "numeric_day_df = day_df.select_dtypes(include=['number'])\n",
        "\n",
        "print(\"\\nCorrelation Matrix (Daily Data):\")\n",
        "print(numeric_day_df.corr())\n"
      ]
    },
    {
      "cell_type": "code",
      "execution_count": null,
      "metadata": {},
      "outputs": [
        {
          "name": "stdout",
          "output_type": "stream",
          "text": [
            "\n",
            "Total Rentals by Weekday:\n",
            "   weekday     cnt\n",
            "5        5  487790\n",
            "4        4  485395\n",
            "6        6  477807\n",
            "3        3  473048\n",
            "2        2  469109\n",
            "1        1  455503\n",
            "0        0  444027\n"
          ]
        }
      ],
      "source": [
        "# 4. Analisis Penyewaan Sepeda Berdasarkan Hari dalam Seminggu\n",
        "weekday_rentals = day_df.groupby('weekday')['cnt'].sum().reset_index().sort_values(by='cnt', ascending=False)\n",
        "print(\"\\nTotal Rentals by Weekday:\")\n",
        "print(weekday_rentals)\n",
        "\n",
        "# Hari dengan penyewaan sepeda tertinggi adalah hari Jumat (weekday = 5) dengan total 487.790 penyewaan. \n",
        "# Hari dengan penyewaan sepeda terendah adalah hari Minggu (weekday = 0) dengan total 444.027 penyewaan."
      ]
    },
    {
      "cell_type": "code",
      "execution_count": null,
      "metadata": {},
      "outputs": [
        {
          "name": "stdout",
          "output_type": "stream",
          "text": [
            "\n",
            "Average Rentals on Working Days vs Holidays:\n",
            "          day_type          cnt\n",
            "0  Holiday/Weekend  4330.168831\n",
            "1      Working Day  4584.820000\n"
          ]
        }
      ],
      "source": [
        "# 5. Analisis Perbedaan Penyewaan Sepeda antara Hari Kerja dan Hari Libur\n",
        "workday_rentals = day_df.groupby('workingday')['cnt'].mean().reset_index()\n",
        "workday_rentals['day_type'] = workday_rentals['workingday'].map({0: 'Holiday/Weekend', 1: 'Working Day'})\n",
        "print(\"\\nAverage Rentals on Working Days vs Holidays:\")\n",
        "print(workday_rentals[['day_type', 'cnt']])\n",
        "\n",
        "# Hari kerja (Working Day) memiliki rata-rata penyewaan 4.584,82 sepeda.\n",
        "# Hari libur/akhir pekan (Holiday/Weekend) memiliki rata-rata penyewaan 4.330,17 sepeda."
      ]
    },
    {
      "cell_type": "markdown",
      "metadata": {
        "id": "th_Lzl2Fkj9O"
      },
      "source": [
        "**Insight:**\n",
        "- Pada tahap mengeksplorasi parameter statistik day penyewaan sepeda lebih tinggi pada hari kerja dibandingkan akhir pekan dan hari libur. Musim, kondisi cuaca, suhu, dan kelembaban mempengaruhi jumlah penyewaan sepeda. Penyewaan tertinggi terjadi saat cuaca baik dan suhu sedang. (insight #1)\n",
        "- Pada tahap mengeksplorasi parameter statistik hour penyewaan sepeda bervariasi berdasarkan jam, dengan lonjakan signifikan pada jam sibuk pagi (07:00-09:00) dan sore (17:00-19:00). Hari kerja menunjukkan lebih banyak penyewaan oleh pengguna terdaftar, sedangkan pengguna kasual meningkat pada akhir pekan. Kondisi cuaca, suhu, dan kelembaban sangat memengaruhi jumlah penyewaan, dengan cuaca buruk mengurangi permintaan. (insight #2)\n",
        "- Korelasi antar variabel dapat membantu memahami hubungan antara faktor cuaca dan penyewaan sepeda. (insight #3)\n",
        "- Hari dengan jumlah penyewaan sepeda tertinggi dan terendah dapat terlihat dari tabel ini. (insight #4)\n",
        "-  Dari tabel ini, kita bisa melihat apakah penyewaan lebih tinggi pada hari kerja atau akhir pekan. (insight #5)\n"
      ]
    },
    {
      "cell_type": "markdown",
      "metadata": {
        "id": "zsyZjqak8DC2"
      },
      "source": [
        "## Visualization & Explanatory Analysis"
      ]
    },
    {
      "cell_type": "markdown",
      "metadata": {
        "id": "HZxOiQ6n8DC2"
      },
      "source": [
        "### Pertanyaan 1: Pada hari apa dalam seminggu penyewaan sepeda paling banyak dan paling sedikit?"
      ]
    },
    {
      "cell_type": "code",
      "execution_count": 38,
      "metadata": {
        "id": "1swJUdAD8DC2"
      },
      "outputs": [
        {
          "name": "stderr",
          "output_type": "stream",
          "text": [
            "C:\\Users\\user\\AppData\\Local\\Temp\\ipykernel_20544\\196287799.py:6: FutureWarning: \n",
            "\n",
            "Passing `palette` without assigning `hue` is deprecated and will be removed in v0.14.0. Assign the `x` variable to `hue` and set `legend=False` for the same effect.\n",
            "\n",
            "  sns.barplot(x='weekday', y='cnt', data=weekday_rentals, palette=colors)\n"
          ]
        },
        {
          "data": {
            "image/png": "[encoded data removed]",
            "text/plain": [
              "<Figure size 1000x500 with 1 Axes>"
            ]
          },
          "metadata": {},
          "output_type": "display_data"
        }
      ],
      "source": [
        "# 1. Visualisasi Penyewaan Sepeda Berdasarkan Hari dalam Seminggu\n",
        "plt.figure(figsize=(10, 5))\n",
        "colors = [\"#A0C4FF\"] * len(weekday_rentals)  # Warna utama\n",
        "max_index = weekday_rentals['cnt'].idxmax()  # Menemukan indeks penyewaan tertinggi\n",
        "colors[max_index] = \"#FF595E\"  # Menyorot hari dengan penyewaan tertinggi\n",
        "sns.barplot(x='weekday', y='cnt', data=weekday_rentals, palette=colors)\n",
        "plt.xlabel(\"Day of the Week\")\n",
        "plt.ylabel(\"Total Rentals\")\n",
        "plt.title(\"Total Bike Rentals by Weekday\")\n",
        "plt.xticks(rotation=45)\n",
        "plt.grid(axis='y', linestyle='--', alpha=0.7)\n",
        "\n",
        "# Menambahkan label pada batang\n",
        "for index, row in weekday_rentals.iterrows():\n",
        "    plt.text(index, row['cnt'], f'{row['cnt']:.0f}', ha='center', va='bottom', fontsize=10)\n",
        "\n",
        "plt.show()"
      ]
    },
    {
      "cell_type": "markdown",
      "metadata": {
        "id": "DgHI7CiU8DC2"
      },
      "source": [
        "### Pertanyaan 2:"
      ]
    },
    {
      "cell_type": "code",
      "execution_count": 36,
      "metadata": {
        "id": "Go0lCsvO8DC2"
      },
      "outputs": [
        {
          "data": {
            "image/png": "[encoded data removed]",
            "text/plain": [
              "<Figure size 700x700 with 1 Axes>"
            ]
          },
          "metadata": {},
          "output_type": "display_data"
        }
      ],
      "source": [
        "# 2. Visualisasi Perbedaan Penyewaan Sepeda antara Hari Kerja dan Hari Libur dengan Pie Chart\n",
        "plt.figure(figsize=(7, 7))\n",
        "colors = [\"#A0C4FF\", \"#FF595E\"]  # Warna pie chart\n",
        "plt.pie(workday_rentals['cnt'], labels=workday_rentals['day_type'], autopct='%1.1f%%', colors=colors, startangle=140, wedgeprops={'edgecolor': 'white'})\n",
        "plt.title(\"Proportion of Bike Rentals on Working Days vs Holidays\")\n",
        "plt.show()\n",
        "\n"
      ]
    },
    {
      "cell_type": "markdown",
      "metadata": {
        "id": "_0-36BDLklRg"
      },
      "source": [
        "**Insight:**\n",
        "- 1. Pola Penyewaan Sepeda Berdasarkan Hari dalam Seminggu\n",
        "Dari visualisasi bar chart, terlihat bahwa hari dengan penyewaan sepeda tertinggi adalah Jumat (weekday=5) dengan 487.790 penyewaan.\n",
        "Sebaliknya, penyewaan sepeda paling rendah terjadi pada Minggu (weekday=0) dengan 444.027 penyewaan.\n",
        "Secara umum, jumlah penyewaan sepeda lebih tinggi pada hari kerja dibandingkan akhir pekan.\n",
        "- Interpretasi: Hari kerja memiliki lebih banyak penyewaan kemungkinan besar karena orang menggunakan sepeda untuk bekerja atau keperluan rutin lainnya. Akhir pekan memiliki penyewaan yang lebih rendah, kemungkinan karena lebih sedikit aktivitas rutin atau lebih banyak pilihan transportasi lain.\n",
        "- 2. Perbandingan Penyewaan Sepeda pada Hari Kerja vs Hari Libur\n",
        "Dari visualisasi pie chart, mayoritas penyewaan terjadi pada hari kerja dibandingkan hari libur.\n",
        "Hari kerja memiliki persentase penyewaan yang lebih tinggi, menunjukkan bahwa sepeda lebih sering digunakan sebagai alat transportasi utama daripada hanya untuk rekreasi.\n",
        "- Interpretasi: Permintaan sepeda lebih tinggi pada hari kerja → Menunjukkan pentingnya penyediaan layanan sepeda yang memadai di hari kerja.\n",
        "Potensi peningkatan penggunaan di akhir pekan → Bisa menjadi peluang untuk promosi atau layanan tambahan untuk meningkatkan penggunaan sepeda di hari libur."
      ]
    },
    {
      "cell_type": "markdown",
      "metadata": {
        "id": "_WeHlCeX8DC2"
      },
      "source": [
        "## Conclusion"
      ]
    },
    {
      "cell_type": "markdown",
      "metadata": {
        "id": "ZTcyR48Y8DC2"
      },
      "source": [
        "- Conclution pertanyaan 1: Pada hari apa dalam seminggu penyewaan sepeda paling banyak dan paling sedikit?\n",
        "\n",
        "Hari dengan penyewaan terbanyak adalah Jumat (487.790 penyewaan), sedangkan penyewaan paling sedikit terjadi pada Minggu (444.027 penyewaan).\n",
        "Tingginya jumlah penyewaan pada Jumat kemungkinan disebabkan oleh meningkatnya aktivitas menjelang akhir pekan, seperti orang-orang yang bekerja atau beraktivitas lebih banyak sebelum libur.\n",
        "Sebaliknya, rendahnya jumlah penyewaan pada Minggu bisa terjadi karena lebih sedikit aktivitas rutin atau adanya alternatif transportasi lain untuk rekreasi di akhir pekan.\n",
        "\n",
        "- Conclution pertanyaan 2: Bagaimana perbedaan jumlah penyewaan sepeda antara hari kerja dan hari libur?\n",
        "\n",
        "Penyewaan sepeda lebih banyak terjadi pada hari kerja dibandingkan hari libur.\n",
        "Hal ini menunjukkan bahwa sepeda lebih sering digunakan sebagai alat transportasi utama untuk keperluan harian, seperti bekerja atau sekolah, dibandingkan untuk rekreasi.\n",
        "Untuk meningkatkan penggunaan di akhir pekan, dapat diterapkan strategi seperti diskon penyewaan atau event bersepeda komunitas pada hari libur agar lebih menarik bagi pengguna rekreasi."
      ]
    }
  ],
  "metadata": {
    "colab": {
      "provenance": []
    },
    "kernelspec": {
      "display_name": "base",
      "language": "python",
      "name": "python3"
    },
    "language_info": {
      "codemirror_mode": {
        "name": "ipython",
        "version": 3
      },
      "file_extension": ".py",
      "mimetype": "text/x-python",
      "name": "python",
      "nbconvert_exporter": "python",
      "pygments_lexer": "ipython3",
      "version": "3.12.4"
    },
    "orig_nbformat": 4
  },
  "nbformat": 4,
  "nbformat_minor": 0
}
